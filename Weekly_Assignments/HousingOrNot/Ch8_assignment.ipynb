{
 "cells": [
  {
   "cell_type": "code",
   "execution_count": null,
   "id": "df300e09-8835-4383-986f-4b5a0121b59d",
   "metadata": {},
   "outputs": [],
   "source": [
    "# Data cleaning"
   ]
  },
  {
   "cell_type": "code",
   "execution_count": 1,
   "id": "94401f3e-211d-4bb7-b3de-e831ee891072",
   "metadata": {},
   "outputs": [],
   "source": [
    "# Clean the data file by removing non-text (e.g. emojis, smart quotes) and regularizing text \n",
    "#(e.g. tokenization, lower casing, stemming, lemmatizing, POS tagging, stop word removal, removing punctuation, spelling correction)\n",
    "import demoji\n",
    "import json\n",
    "import spacy\n",
    "from spacy.lang.en import English\n",
    "from spellchecker import SpellChecker\n",
    "from nltk.stem.porter import PorterStemmer\n",
    "\n",
    "path= \"faqsFromPdf.json\"\n",
    "with open(path, 'r') as json_file:\n",
    "    text = json.load(json_file)\n",
    "\n",
    "categories = []\n",
    "all_text = \"\"\n",
    "for key, faq_list in text.items():\n",
    "    group_text = \"\"\n",
    "\n",
    "    for faq_item in faq_list:\n",
    "        all_text += faq_item[\"question\"] + \" \" + faq_item[\"answer\"] + \" \"\n",
    "        group_text += faq_item[\"question\"] + faq_item[\"answer\"] \n",
    "    categories.append(group_text)\n",
    "\n",
    "# Removing emojis\n",
    "clean_text = demoji.replace(all_text,\"\")\n",
    "#remove smart quotes\n",
    "clean_text = clean_text.replace(\"“\", \"\\\"\").replace(\"”\",\"\\\"\")\n",
    "# convert text to lower-case\n",
    "clean_text = clean_text.lower()\n",
    "\n",
    "spell = SpellChecker()\n",
    "stemmer = PorterStemmer()\n",
    "\n",
    "# Find and correct spelling errors\n",
    "corrected_text = []\n",
    "clean_text=clean_text.split()\n",
    "for word in clean_text:\n",
    "    # Check if the word is misspelled\n",
    "    if spell.unknown([word]):\n",
    "        # Get the corrected version of the word\n",
    "        corrected_word = spell.correction(word)\n",
    "        # Check if the corrected word is not None\n",
    "        if corrected_word is not None:\n",
    "            corrected_text.append(corrected_word)\n",
    "        else:\n",
    "            # If the correction is None, keep the original word\n",
    "            corrected_text.append(word)\n",
    "    else:\n",
    "        corrected_text.append(word)\n",
    "# Join the corrected words back into a string\n",
    "corrected_text = \" \".join(corrected_text)   \n",
    "\n",
    "#Tokenzing using Spacy with removing white spaces, stop words, and punctuations\n",
    "nlp = spacy.load('en_core_web_sm')\n",
    "doc = nlp(corrected_text)\n",
    "\n",
    "# Lemmatize and stem the words\n",
    "lemmatized_and_stemmed_words = []\n",
    "for token in doc:\n",
    "    lemma = token.lemma_\n",
    "    stem = stemmer.stem(token.text)  # Use Porter Stemmer\n",
    "    lemmatized_and_stemmed_words.append((token.text, lemma, stem))\n",
    "\n",
    "clean_words = [token.text for token in doc if not (token.is_space or token.is_stop or token.is_punct)]\n",
    "posArray = [(token.text, token.pos_) for token in doc if not (token.is_space or token.is_stop or token.is_punct)]\n",
    "\n",
    "# print(clean_words)\n",
    "with open(\"cleaned_data.txt\", \"w\", encoding='utf-8') as txt_file:\n",
    "     txt_file.write(str(clean_words))"
   ]
  },
  {
   "cell_type": "code",
   "execution_count": null,
   "id": "32080822-9d0c-4baa-9564-74c07d0563a9",
   "metadata": {},
   "outputs": [],
   "source": [
    "# Generate additional training data for the project by substituting different words with the same superordinate term in different sentence patterns. "
   ]
  },
  {
   "cell_type": "code",
   "execution_count": 3,
   "id": "efdd36db-5536-4147-b87e-ec7e99fdac93",
   "metadata": {},
   "outputs": [
    {
     "data": {
      "text/plain": [
       "[Synset('housing.n.01'),\n",
       " Synset('housing.n.02'),\n",
       " Synset('caparison.n.01'),\n",
       " Synset('house.v.01'),\n",
       " Synset('house.v.02')]"
      ]
     },
     "execution_count": 3,
     "metadata": {},
     "output_type": "execute_result"
    }
   ],
   "source": [
    "# get the WordNet list of all housing\n",
    "\n",
    "import nltk\n",
    "from nltk.corpus import wordnet as wn\n",
    "wn.synsets('housing')"
   ]
  },
  {
   "cell_type": "code",
   "execution_count": 4,
   "id": "189e7ffb-7beb-4930-900c-48d17d1df903",
   "metadata": {},
   "outputs": [
    {
     "name": "stdout",
     "output_type": "stream",
     "text": [
      "structures collectively in which people are housed\n",
      "a protective cover designed to contain or support a mechanical component\n"
     ]
    }
   ],
   "source": [
    "print(wn.synset('housing.n.01').definition())\n",
    "print(wn.synset('housing.n.02').definition())"
   ]
  },
  {
   "cell_type": "code",
   "execution_count": 5,
   "id": "e907956f-6d79-4388-80ba-e866b0ab07a1",
   "metadata": {},
   "outputs": [
    {
     "name": "stdout",
     "output_type": "stream",
     "text": [
      "['apartment', 'billet', 'block', 'camp', 'condominium', 'dwelling', 'hospice', 'hostel', 'living_quarters', 'mobile_home', 'pied-a-terre', 'quartering', 'rattrap', 'shelter', 'tract_housing']\n"
     ]
    }
   ],
   "source": [
    "word_list = wn.synset('housing.n.01').hyponyms()\n",
    "simple_names = []\n",
    "for word in range (len(word_list)):\n",
    "    simple_name = word_list[word].lemma_names()[0]\n",
    "    simple_names.append(simple_name)\n",
    "print(simple_names)"
   ]
  },
  {
   "cell_type": "code",
   "execution_count": 24,
   "id": "9870b0a8-7a10-460b-ae9b-b33424cdba06",
   "metadata": {},
   "outputs": [
    {
     "name": "stdout",
     "output_type": "stream",
     "text": [
      "Can I sign up for one semester of apartment\n",
      "Can I sign up for one semester of billet\n",
      "Can I sign up for one semester of block\n",
      "Can I sign up for one semester of camp\n",
      "Can I sign up for one semester of condominium\n",
      "Can I sign up for one semester of dwelling\n",
      "Can I sign up for one semester of hospice\n",
      "Can I sign up for one semester of hostel\n",
      "Can I sign up for one semester of living_quarters\n",
      "Can I sign up for one semester of mobile_home\n",
      "Can I sign up for one semester of pied-a-terre\n",
      "Can I sign up for one semester of quartering\n",
      "Can I sign up for one semester of rattrap\n",
      "Can I sign up for one semester of shelter\n",
      "Can I sign up for one semester of tract_housing\n"
     ]
    }
   ],
   "source": [
    "# generate some sample data\n",
    "\n",
    "text_frame = \"Can I sign up for one semester of \"\n",
    "for vegetable in range(len(simple_names)):\n",
    "    print(text_frame + simple_names[vegetable])"
   ]
  },
  {
   "cell_type": "code",
   "execution_count": null,
   "id": "58f8e19b-5ca5-48e8-a6c2-78f874ca4a7c",
   "metadata": {},
   "outputs": [],
   "source": [
    "# Performing context-free grammars and parsing "
   ]
  },
  {
   "cell_type": "code",
   "execution_count": 125,
   "id": "5d6ea0d4-17c6-4678-814e-54c945be9cbd",
   "metadata": {},
   "outputs": [],
   "source": [
    "# an NLTK CFG grammar \n",
    "grammar = nltk.CFG.fromstring(\"\"\"\n",
    "S -> Event Verb Predicate\n",
    "Event -> 'Orientation' | 'Graduation' | 'Homecoming'\n",
    "Verb -> 'is'\n",
    "Predicate -> NP Prep Det Adj Noun Location\n",
    "NP -> Det Adj Noun\n",
    "VP -> Verb NP  \n",
    "PP -> Prep NP\n",
    "Det -> 'a' || 'all'\n",
    "Prep -> 'for'\n",
    "Adj -> 'required' | 'new'\n",
    "Noun -> 'event' | 'students' | 'activities'\n",
    "Location -> 'living' 'on' 'and' 'off-campus'\n",
    "\"\"\")"
   ]
  },
  {
   "cell_type": "code",
   "execution_count": 126,
   "id": "e2e8f758-a913-468c-85eb-39e8e2582e94",
   "metadata": {},
   "outputs": [
    {
     "name": "stdout",
     "output_type": "stream",
     "text": [
      "1\n",
      "(S\n",
      "  (Event Orientation)\n",
      "  (Verb is)\n",
      "  (Predicate\n",
      "    (NP (Det a) (Adj required) (Noun event))\n",
      "    (Prep for)\n",
      "    (Det all)\n",
      "    (Adj new)\n",
      "    (Noun students)\n",
      "    (Location living on and off-campus)))\n"
     ]
    },
    {
     "data": {
      "image/svg+xml": [
       "<svg baseProfile=\"full\" height=\"216px\" preserveAspectRatio=\"xMidYMid meet\" style=\"font-family: times, serif; font-weight: normal; font-style: normal; font-size: 16px;\" version=\"1.1\" viewBox=\"0,0,768.0,216.0\" width=\"768px\" xmlns=\"http://www.w3.org/2000/svg\" xmlns:ev=\"http://www.w3.org/2001/xml-events\" xmlns:xlink=\"http://www.w3.org/1999/xlink\"><defs /><svg width=\"100%\" x=\"0\" y=\"0px\"><defs /><text text-anchor=\"middle\" x=\"50%\" y=\"16px\">S</text></svg><svg width=\"13.5417%\" x=\"0%\" y=\"48px\"><defs /><svg width=\"100%\" x=\"0\" y=\"0px\"><defs /><text text-anchor=\"middle\" x=\"50%\" y=\"16px\">Event</text></svg><svg width=\"100%\" x=\"0%\" y=\"48px\"><defs /><svg width=\"100%\" x=\"0\" y=\"0px\"><defs /><text text-anchor=\"middle\" x=\"50%\" y=\"16px\">Orientation</text></svg></svg><line stroke=\"black\" x1=\"50%\" x2=\"50%\" y1=\"19.2px\" y2=\"48px\" /></svg><line stroke=\"black\" x1=\"50%\" x2=\"6.77083%\" y1=\"19.2px\" y2=\"48px\" /><svg width=\"6.25%\" x=\"13.5417%\" y=\"48px\"><defs /><svg width=\"100%\" x=\"0\" y=\"0px\"><defs /><text text-anchor=\"middle\" x=\"50%\" y=\"16px\">Verb</text></svg><svg width=\"100%\" x=\"0%\" y=\"48px\"><defs /><svg width=\"100%\" x=\"0\" y=\"0px\"><defs /><text text-anchor=\"middle\" x=\"50%\" y=\"16px\">is</text></svg></svg><line stroke=\"black\" x1=\"50%\" x2=\"50%\" y1=\"19.2px\" y2=\"48px\" /></svg><line stroke=\"black\" x1=\"50%\" x2=\"16.6667%\" y1=\"19.2px\" y2=\"48px\" /><svg width=\"80.2083%\" x=\"19.7917%\" y=\"48px\"><defs /><svg width=\"100%\" x=\"0\" y=\"0px\"><defs /><text text-anchor=\"middle\" x=\"50%\" y=\"16px\">Predicate</text></svg><svg width=\"28.5714%\" x=\"0%\" y=\"48px\"><defs /><svg width=\"100%\" x=\"0\" y=\"0px\"><defs /><text text-anchor=\"middle\" x=\"50%\" y=\"16px\">NP</text></svg><svg width=\"22.7273%\" x=\"0%\" y=\"48px\"><defs /><svg width=\"100%\" x=\"0\" y=\"0px\"><defs /><text text-anchor=\"middle\" x=\"50%\" y=\"16px\">Det</text></svg><svg width=\"100%\" x=\"0%\" y=\"48px\"><defs /><svg width=\"100%\" x=\"0\" y=\"0px\"><defs /><text text-anchor=\"middle\" x=\"50%\" y=\"16px\">a</text></svg></svg><line stroke=\"black\" x1=\"50%\" x2=\"50%\" y1=\"19.2px\" y2=\"48px\" /></svg><line stroke=\"black\" x1=\"50%\" x2=\"11.3636%\" y1=\"19.2px\" y2=\"48px\" /><svg width=\"45.4545%\" x=\"22.7273%\" y=\"48px\"><defs /><svg width=\"100%\" x=\"0\" y=\"0px\"><defs /><text text-anchor=\"middle\" x=\"50%\" y=\"16px\">Adj</text></svg><svg width=\"100%\" x=\"0%\" y=\"48px\"><defs /><svg width=\"100%\" x=\"0\" y=\"0px\"><defs /><text text-anchor=\"middle\" x=\"50%\" y=\"16px\">required</text></svg></svg><line stroke=\"black\" x1=\"50%\" x2=\"50%\" y1=\"19.2px\" y2=\"48px\" /></svg><line stroke=\"black\" x1=\"50%\" x2=\"45.4545%\" y1=\"19.2px\" y2=\"48px\" /><svg width=\"31.8182%\" x=\"68.1818%\" y=\"48px\"><defs /><svg width=\"100%\" x=\"0\" y=\"0px\"><defs /><text text-anchor=\"middle\" x=\"50%\" y=\"16px\">Noun</text></svg><svg width=\"100%\" x=\"0%\" y=\"48px\"><defs /><svg width=\"100%\" x=\"0\" y=\"0px\"><defs /><text text-anchor=\"middle\" x=\"50%\" y=\"16px\">event</text></svg></svg><line stroke=\"black\" x1=\"50%\" x2=\"50%\" y1=\"19.2px\" y2=\"48px\" /></svg><line stroke=\"black\" x1=\"50%\" x2=\"84.0909%\" y1=\"19.2px\" y2=\"48px\" /></svg><line stroke=\"black\" x1=\"50%\" x2=\"14.2857%\" y1=\"19.2px\" y2=\"48px\" /><svg width=\"7.79221%\" x=\"28.5714%\" y=\"48px\"><defs /><svg width=\"100%\" x=\"0\" y=\"0px\"><defs /><text text-anchor=\"middle\" x=\"50%\" y=\"16px\">Prep</text></svg><svg width=\"100%\" x=\"0%\" y=\"48px\"><defs /><svg width=\"100%\" x=\"0\" y=\"0px\"><defs /><text text-anchor=\"middle\" x=\"50%\" y=\"16px\">for</text></svg></svg><line stroke=\"black\" x1=\"50%\" x2=\"50%\" y1=\"19.2px\" y2=\"48px\" /></svg><line stroke=\"black\" x1=\"50%\" x2=\"32.4675%\" y1=\"19.2px\" y2=\"48px\" /><svg width=\"6.49351%\" x=\"36.3636%\" y=\"48px\"><defs /><svg width=\"100%\" x=\"0\" y=\"0px\"><defs /><text text-anchor=\"middle\" x=\"50%\" y=\"16px\">Det</text></svg><svg width=\"100%\" x=\"0%\" y=\"48px\"><defs /><svg width=\"100%\" x=\"0\" y=\"0px\"><defs /><text text-anchor=\"middle\" x=\"50%\" y=\"16px\">all</text></svg></svg><line stroke=\"black\" x1=\"50%\" x2=\"50%\" y1=\"19.2px\" y2=\"48px\" /></svg><line stroke=\"black\" x1=\"50%\" x2=\"39.6104%\" y1=\"19.2px\" y2=\"48px\" /><svg width=\"6.49351%\" x=\"42.8571%\" y=\"48px\"><defs /><svg width=\"100%\" x=\"0\" y=\"0px\"><defs /><text text-anchor=\"middle\" x=\"50%\" y=\"16px\">Adj</text></svg><svg width=\"100%\" x=\"0%\" y=\"48px\"><defs /><svg width=\"100%\" x=\"0\" y=\"0px\"><defs /><text text-anchor=\"middle\" x=\"50%\" y=\"16px\">new</text></svg></svg><line stroke=\"black\" x1=\"50%\" x2=\"50%\" y1=\"19.2px\" y2=\"48px\" /></svg><line stroke=\"black\" x1=\"50%\" x2=\"46.1039%\" y1=\"19.2px\" y2=\"48px\" /><svg width=\"12.987%\" x=\"49.3506%\" y=\"48px\"><defs /><svg width=\"100%\" x=\"0\" y=\"0px\"><defs /><text text-anchor=\"middle\" x=\"50%\" y=\"16px\">Noun</text></svg><svg width=\"100%\" x=\"0%\" y=\"48px\"><defs /><svg width=\"100%\" x=\"0\" y=\"0px\"><defs /><text text-anchor=\"middle\" x=\"50%\" y=\"16px\">students</text></svg></svg><line stroke=\"black\" x1=\"50%\" x2=\"50%\" y1=\"19.2px\" y2=\"48px\" /></svg><line stroke=\"black\" x1=\"50%\" x2=\"55.8442%\" y1=\"19.2px\" y2=\"48px\" /><svg width=\"37.6623%\" x=\"62.3377%\" y=\"48px\"><defs /><svg width=\"100%\" x=\"0\" y=\"0px\"><defs /><text text-anchor=\"middle\" x=\"50%\" y=\"16px\">Location</text></svg><svg width=\"27.5862%\" x=\"0%\" y=\"48px\"><defs /><svg width=\"100%\" x=\"0\" y=\"0px\"><defs /><text text-anchor=\"middle\" x=\"50%\" y=\"16px\">living</text></svg></svg><line stroke=\"black\" x1=\"50%\" x2=\"13.7931%\" y1=\"19.2px\" y2=\"48px\" /><svg width=\"13.7931%\" x=\"27.5862%\" y=\"48px\"><defs /><svg width=\"100%\" x=\"0\" y=\"0px\"><defs /><text text-anchor=\"middle\" x=\"50%\" y=\"16px\">on</text></svg></svg><line stroke=\"black\" x1=\"50%\" x2=\"34.4828%\" y1=\"19.2px\" y2=\"48px\" /><svg width=\"17.2414%\" x=\"41.3793%\" y=\"48px\"><defs /><svg width=\"100%\" x=\"0\" y=\"0px\"><defs /><text text-anchor=\"middle\" x=\"50%\" y=\"16px\">and</text></svg></svg><line stroke=\"black\" x1=\"50%\" x2=\"50%\" y1=\"19.2px\" y2=\"48px\" /><svg width=\"41.3793%\" x=\"58.6207%\" y=\"48px\"><defs /><svg width=\"100%\" x=\"0\" y=\"0px\"><defs /><text text-anchor=\"middle\" x=\"50%\" y=\"16px\">off-campus</text></svg></svg><line stroke=\"black\" x1=\"50%\" x2=\"79.3103%\" y1=\"19.2px\" y2=\"48px\" /></svg><line stroke=\"black\" x1=\"50%\" x2=\"81.1688%\" y1=\"19.2px\" y2=\"48px\" /></svg><line stroke=\"black\" x1=\"50%\" x2=\"59.8958%\" y1=\"19.2px\" y2=\"48px\" /></svg>"
      ],
      "text/plain": [
       "Tree('S', [Tree('Event', ['Orientation']), Tree('Verb', ['is']), Tree('Predicate', [Tree('NP', [Tree('Det', ['a']), Tree('Adj', ['required']), Tree('Noun', ['event'])]), Tree('Prep', ['for']), Tree('Det', ['all']), Tree('Adj', ['new']), Tree('Noun', ['students']), Tree('Location', ['living', 'on', 'and', 'off-campus'])])])"
      ]
     },
     "execution_count": 126,
     "metadata": {},
     "output_type": "execute_result"
    }
   ],
   "source": [
    "# parse and visualize a sentence\n",
    "# we will need this to tokenize the input\n",
    "import nltk\n",
    "from nltk import word_tokenize\n",
    "# a package for visualizing parse trees\n",
    "import svgling\n",
    "# to use svgling we need to disable NLTK's normal visualization functions\n",
    "svgling.disable_nltk_png()\n",
    "# example sentence that can be parsed with the grammar we've defined\n",
    "sent = nltk.word_tokenize(\"Orientation is a required event for all new students living on and off-campus\")\n",
    "# create a chart parser based on the grammar above\n",
    "parser = nltk.ChartParser(grammar)\n",
    "# parse the sentence\n",
    "trees = list(parser.parse(sent))\n",
    "print(len(trees))\n",
    "# print a text-formatted parse tree\n",
    "print(trees[0])\n",
    "# print an SVG formatted parse tree\n",
    "trees[0]"
   ]
  },
  {
   "cell_type": "code",
   "execution_count": null,
   "id": "9d133133-8570-478a-9a6a-b30a1e77ab62",
   "metadata": {},
   "outputs": [],
   "source": [
    "# slot filling and slot visualization"
   ]
  },
  {
   "cell_type": "code",
   "execution_count": 135,
   "id": "236d4144-318c-4d24-ba0b-3b9b5bf055ad",
   "metadata": {},
   "outputs": [
    {
     "name": "stdout",
     "output_type": "stream",
     "text": [
      "[('part-time', 'OCCUPATION'), ('career resource center', 'SERVICE'), ('internships', 'OCCUPATION'), ('pacific', 'UNIVERSITY'), ('on campus', 'LOCATION'), ('career services', 'SERVICE')]\n"
     ]
    }
   ],
   "source": [
    "import spacy\n",
    "from spacy.lang.en import English\n",
    "\n",
    "nlp = English()\n",
    "\n",
    "ruler = nlp.add_pipe(\"entity_ruler\")\n",
    "university_patterns = [\n",
    "    {\"label\": \"UNIVERSITY\", \"pattern\": \"pacific\"},\n",
    "    {\"label\": \"UNIVERSITY\", \"pattern\": \"uop\"},\n",
    "    {\"label\": \"UNIVERSITY\", \"pattern\": \"university\"},\n",
    "    {\"label\": \"UNIVERSITY\", \"pattern\": \"uopi\"}]\n",
    "department_patterns = [\n",
    "    {\"label\": \"DEPARTMENT\", \"pattern\": \"school of business\"},\n",
    "    {\"label\": \"DEPARTMENT\", \"pattern\": \"school of engineering and computer science \"},\n",
    "    {\"label\": \"DEPARTMENT\", \"pattern\": \"school of dentistry\"}]\n",
    "occupation_patterns = [\n",
    "    {\"label\": \"OCCUPATION\", \"pattern\": \"part-time\"},\n",
    "    {\"label\": \"OCCUPATION\", \"pattern\": \"full-time\"},\n",
    "    {\"label\": \"OCCUPATION\", \"pattern\": \"student job\"},\n",
    "    {\"label\": \"OCCUPATION\", \"pattern\": \"internship\"},\n",
    "    {\"label\": \"OCCUPATION\", \"pattern\": \"internships\"},\n",
    "    {\"label\": \"OCCUPATION\", \"pattern\": \"freelancer\"},\n",
    "    {\"label\": \"OCCUPATION\", \"pattern\": \"teaching assistant\"},\n",
    "    {\"label\": \"OCCUPATION\", \"pattern\": \"researcher\"},\n",
    "    {\"label\": \"OCCUPATION\", \"pattern\": \"tutor\"}]\n",
    "\n",
    "service_patterns = [\n",
    "    {\"label\": \"SERVICE\", \"pattern\": \"career resource center\"},\n",
    "    {\"label\": \"SERVICE\", \"pattern\": \"career services\"},\n",
    "    {\"label\": \"SERVICE\", \"pattern\": \"academic advising\"},\n",
    "    {\"label\": \"SERVICE\", \"pattern\": \"library services\"},\n",
    "    {\"label\": \"SERVICE\", \"pattern\": \"counseling services\"},\n",
    "   {\"label\": \"SERVICE\", \"pattern\": \"counseling services\"}]\n",
    "location_patterns = [\n",
    "     {\"label\": \"LOCATION\", \"pattern\": \"on campus\"},\n",
    "     {\"label\": \"LOCATION\", \"pattern\": \"off campus\"},\n",
    "     {\"label\": \"LOCATION\", \"pattern\": \"stockton, california\"},\n",
    "     {\"label\": \"LOCATION\", \"pattern\": \"san francisco, california\"},\n",
    "     {\"label\": \"LOCATION\", \"pattern\": \"sacramento, california\"}]\n",
    "           \n",
    "ruler.add_patterns(university_patterns)\n",
    "ruler.add_patterns(department_patterns)\n",
    "ruler.add_patterns(occupation_patterns)\n",
    "ruler.add_patterns(service_patterns)\n",
    "ruler.add_patterns(location_patterns)\n",
    "text = \"Many students choose to work part-time while attending Pacific.Our Career Resource Center can help you find jobs and paid internships, or you can search for yourself on Handshake, Pacific’s online job and opportunity board. It’s easy and common for students to find work on campus – get your resume drafted up and make an appointment at Career Services to get started!\"\n",
    "text = text.lower()\n",
    "doc = nlp(text)\n",
    "print([(ent.text, ent.label_) for ent in doc.ents])\n"
   ]
  },
  {
   "cell_type": "code",
   "execution_count": 136,
   "id": "37c56798-d339-4221-b043-658978f36990",
   "metadata": {},
   "outputs": [
    {
     "data": {
      "text/html": [
       "<span class=\"tex2jax_ignore\"><div class=\"entities\" style=\"line-height: 2.5; direction: ltr\">many students choose to work \n",
       "<mark class=\"entity\" style=\"background: #abcdef; padding: 0.45em 0.6em; margin: 0 0.25em; line-height: 1; border-radius: 0.35em;\">\n",
       "    part-time\n",
       "    <span style=\"font-size: 0.8em; font-weight: bold; line-height: 1; border-radius: 0.35em; vertical-align: middle; margin-left: 0.5rem\">OCCUPATION</span>\n",
       "</mark>\n",
       " while attending pacific.our \n",
       "<mark class=\"entity\" style=\"background: #ffffba; padding: 0.45em 0.6em; margin: 0 0.25em; line-height: 1; border-radius: 0.35em;\">\n",
       "    career resource center\n",
       "    <span style=\"font-size: 0.8em; font-weight: bold; line-height: 1; border-radius: 0.35em; vertical-align: middle; margin-left: 0.5rem\">SERVICE</span>\n",
       "</mark>\n",
       " can help you find jobs and paid \n",
       "<mark class=\"entity\" style=\"background: #abcdef; padding: 0.45em 0.6em; margin: 0 0.25em; line-height: 1; border-radius: 0.35em;\">\n",
       "    internships\n",
       "    <span style=\"font-size: 0.8em; font-weight: bold; line-height: 1; border-radius: 0.35em; vertical-align: middle; margin-left: 0.5rem\">OCCUPATION</span>\n",
       "</mark>\n",
       ", or you can search for yourself on handshake, \n",
       "<mark class=\"entity\" style=\"background: #ea7e7e; padding: 0.45em 0.6em; margin: 0 0.25em; line-height: 1; border-radius: 0.35em;\">\n",
       "    pacific\n",
       "    <span style=\"font-size: 0.8em; font-weight: bold; line-height: 1; border-radius: 0.35em; vertical-align: middle; margin-left: 0.5rem\">UNIVERSITY</span>\n",
       "</mark>\n",
       "’s online job and opportunity board. it’s easy and common for students to find work \n",
       "<mark class=\"entity\" style=\"background: dfffba; padding: 0.45em 0.6em; margin: 0 0.25em; line-height: 1; border-radius: 0.35em;\">\n",
       "    on campus\n",
       "    <span style=\"font-size: 0.8em; font-weight: bold; line-height: 1; border-radius: 0.35em; vertical-align: middle; margin-left: 0.5rem\">LOCATION</span>\n",
       "</mark>\n",
       " – get your resume drafted up and make an appointment at \n",
       "<mark class=\"entity\" style=\"background: #ffffba; padding: 0.45em 0.6em; margin: 0 0.25em; line-height: 1; border-radius: 0.35em;\">\n",
       "    career services\n",
       "    <span style=\"font-size: 0.8em; font-weight: bold; line-height: 1; border-radius: 0.35em; vertical-align: middle; margin-left: 0.5rem\">SERVICE</span>\n",
       "</mark>\n",
       " to get started!</div></span>"
      ],
      "text/plain": [
       "<IPython.core.display.HTML object>"
      ]
     },
     "metadata": {},
     "output_type": "display_data"
    }
   ],
   "source": [
    "from spacy import displacy\n",
    "colors = {\"UNIVERSITY\": \"#ea7e7e\",\n",
    "          \"DEPARTMENT\": \"#baffc9\",\n",
    "          \"OCCUPATION\": \"#abcdef\",\n",
    "          \"SERVICE\": \"#ffffba\",\n",
    "          \"LOCATION\":\"dfffba\"}\n",
    "options = {\"ents\": [\"UNIVERSITY\",\"DEPARTMENT\",\"OCCUPATION\",\"SERVICE\",\"LOCATION\"], \"colors\": colors}\n",
    "displacy.render(doc, style=\"ent\", options=options,jupyter = True)"
   ]
  },
  {
   "cell_type": "code",
   "execution_count": null,
   "id": "bb660868-9d55-4961-8dfb-d858c5e28783",
   "metadata": {},
   "outputs": [],
   "source": []
  }
 ],
 "metadata": {
  "kernelspec": {
   "display_name": "Python 3 (ipykernel)",
   "language": "python",
   "name": "python3"
  },
  "language_info": {
   "codemirror_mode": {
    "name": "ipython",
    "version": 3
   },
   "file_extension": ".py",
   "mimetype": "text/x-python",
   "name": "python",
   "nbconvert_exporter": "python",
   "pygments_lexer": "ipython3",
   "version": "3.11.5"
  }
 },
 "nbformat": 4,
 "nbformat_minor": 5
}
